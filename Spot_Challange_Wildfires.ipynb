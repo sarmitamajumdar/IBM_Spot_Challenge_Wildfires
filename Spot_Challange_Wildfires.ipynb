{
 "cells": [
  {
   "cell_type": "code",
   "execution_count": 17,
   "metadata": {},
   "outputs": [],
   "source": [
    "# Importing numpy, pandas for Data Manupulation\n",
    "import numpy as np\n",
    "import pandas as pd\n",
    "\n",
    "#Importing matplotlib & seaborn for Data Visualization\n",
    "import matplotlib.pyplot as plt\n",
    "import seaborn as sns\n",
    "import warnings\n",
    "warnings.simplefilter(action='ignore', category=FutureWarning)\n",
    "\n",
    "#Import sklearn for Model Building\n",
    "from sklearn.tree import DecisionTreeRegressor\n",
    "from sklearn.preprocessing import StandardScaler\n",
    "from sklearn import linear_model\n",
    "\n",
    "#For MSE & RMSE\n",
    "from sklearn.metrics import mean_squared_error, r2_score\n",
    "\n",
    "#For train & test\n",
    "from sklearn.model_selection import train_test_split\n",
    "\n",
    "%matplotlib inline\n",
    "\n"
   ]
  },
  {
   "cell_type": "markdown",
   "metadata": {},
   "source": [
    "### Reading csv file Historical_wildfires: "
   ]
  },
  {
   "cell_type": "code",
   "execution_count": 2,
   "metadata": {},
   "outputs": [
    {
     "data": {
      "text/html": [
       "<div>\n",
       "<style scoped>\n",
       "    .dataframe tbody tr th:only-of-type {\n",
       "        vertical-align: middle;\n",
       "    }\n",
       "\n",
       "    .dataframe tbody tr th {\n",
       "        vertical-align: top;\n",
       "    }\n",
       "\n",
       "    .dataframe thead th {\n",
       "        text-align: right;\n",
       "    }\n",
       "</style>\n",
       "<table border=\"1\" class=\"dataframe\">\n",
       "  <thead>\n",
       "    <tr style=\"text-align: right;\">\n",
       "      <th></th>\n",
       "      <th>Region</th>\n",
       "      <th>Date</th>\n",
       "      <th>Estimated_fire_area</th>\n",
       "      <th>Mean_estimated_fire_brightness</th>\n",
       "      <th>Mean_estimated_fire_radiative_power</th>\n",
       "      <th>Mean_confidence</th>\n",
       "      <th>Std_confidence</th>\n",
       "      <th>Var_confidence</th>\n",
       "      <th>Count</th>\n",
       "      <th>Replaced</th>\n",
       "    </tr>\n",
       "  </thead>\n",
       "  <tbody>\n",
       "    <tr>\n",
       "      <th>0</th>\n",
       "      <td>NSW</td>\n",
       "      <td>1/4/2005</td>\n",
       "      <td>8.68000</td>\n",
       "      <td>312.266667</td>\n",
       "      <td>42.400000</td>\n",
       "      <td>78.666667</td>\n",
       "      <td>2.886751</td>\n",
       "      <td>8.333333</td>\n",
       "      <td>3</td>\n",
       "      <td>R</td>\n",
       "    </tr>\n",
       "    <tr>\n",
       "      <th>1</th>\n",
       "      <td>NSW</td>\n",
       "      <td>1/5/2005</td>\n",
       "      <td>16.61125</td>\n",
       "      <td>322.475000</td>\n",
       "      <td>62.362500</td>\n",
       "      <td>85.500000</td>\n",
       "      <td>8.088793</td>\n",
       "      <td>65.428571</td>\n",
       "      <td>8</td>\n",
       "      <td>R</td>\n",
       "    </tr>\n",
       "    <tr>\n",
       "      <th>2</th>\n",
       "      <td>NSW</td>\n",
       "      <td>1/6/2005</td>\n",
       "      <td>5.52000</td>\n",
       "      <td>325.266667</td>\n",
       "      <td>38.400000</td>\n",
       "      <td>78.333333</td>\n",
       "      <td>3.214550</td>\n",
       "      <td>10.333333</td>\n",
       "      <td>3</td>\n",
       "      <td>R</td>\n",
       "    </tr>\n",
       "    <tr>\n",
       "      <th>3</th>\n",
       "      <td>NSW</td>\n",
       "      <td>1/7/2005</td>\n",
       "      <td>6.26400</td>\n",
       "      <td>313.870000</td>\n",
       "      <td>33.800000</td>\n",
       "      <td>92.200000</td>\n",
       "      <td>7.529940</td>\n",
       "      <td>56.700000</td>\n",
       "      <td>5</td>\n",
       "      <td>R</td>\n",
       "    </tr>\n",
       "    <tr>\n",
       "      <th>4</th>\n",
       "      <td>NSW</td>\n",
       "      <td>1/8/2005</td>\n",
       "      <td>5.40000</td>\n",
       "      <td>337.383333</td>\n",
       "      <td>122.533333</td>\n",
       "      <td>91.000000</td>\n",
       "      <td>7.937254</td>\n",
       "      <td>63.000000</td>\n",
       "      <td>3</td>\n",
       "      <td>R</td>\n",
       "    </tr>\n",
       "  </tbody>\n",
       "</table>\n",
       "</div>"
      ],
      "text/plain": [
       "  Region      Date  Estimated_fire_area  Mean_estimated_fire_brightness  \\\n",
       "0    NSW  1/4/2005              8.68000                      312.266667   \n",
       "1    NSW  1/5/2005             16.61125                      322.475000   \n",
       "2    NSW  1/6/2005              5.52000                      325.266667   \n",
       "3    NSW  1/7/2005              6.26400                      313.870000   \n",
       "4    NSW  1/8/2005              5.40000                      337.383333   \n",
       "\n",
       "   Mean_estimated_fire_radiative_power  Mean_confidence  Std_confidence  \\\n",
       "0                            42.400000        78.666667        2.886751   \n",
       "1                            62.362500        85.500000        8.088793   \n",
       "2                            38.400000        78.333333        3.214550   \n",
       "3                            33.800000        92.200000        7.529940   \n",
       "4                           122.533333        91.000000        7.937254   \n",
       "\n",
       "   Var_confidence  Count Replaced  \n",
       "0        8.333333      3        R  \n",
       "1       65.428571      8        R  \n",
       "2       10.333333      3        R  \n",
       "3       56.700000      5        R  \n",
       "4       63.000000      3        R  "
      ]
     },
     "execution_count": 2,
     "metadata": {},
     "output_type": "execute_result"
    }
   ],
   "source": [
    "#Contains Estimated Fire Area for training the Model\n",
    "df_wildfires=pd.read_csv(\"Historical_Wildfires_BASE4.csv\")\n",
    "\n",
    "df_wildfires.head()"
   ]
  },
  {
   "cell_type": "code",
   "execution_count": 3,
   "metadata": {},
   "outputs": [
    {
     "data": {
      "text/plain": [
       "Region                                  object\n",
       "Date                                    object\n",
       "Estimated_fire_area                    float64\n",
       "Mean_estimated_fire_brightness         float64\n",
       "Mean_estimated_fire_radiative_power    float64\n",
       "Mean_confidence                        float64\n",
       "Std_confidence                         float64\n",
       "Var_confidence                         float64\n",
       "Count                                    int64\n",
       "Replaced                                object\n",
       "dtype: object"
      ]
     },
     "execution_count": 3,
     "metadata": {},
     "output_type": "execute_result"
    }
   ],
   "source": [
    "#To check the Data Types\n",
    "df_wildfires.dtypes"
   ]
  },
  {
   "cell_type": "markdown",
   "metadata": {},
   "source": [
    "### Using Transpose of the Array of shape (X, Y) to change the shape (Y, X)"
   ]
  },
  {
   "cell_type": "code",
   "execution_count": 4,
   "metadata": {},
   "outputs": [
    {
     "data": {
      "text/html": [
       "<div>\n",
       "<style scoped>\n",
       "    .dataframe tbody tr th:only-of-type {\n",
       "        vertical-align: middle;\n",
       "    }\n",
       "\n",
       "    .dataframe tbody tr th {\n",
       "        vertical-align: top;\n",
       "    }\n",
       "\n",
       "    .dataframe thead th {\n",
       "        text-align: right;\n",
       "    }\n",
       "</style>\n",
       "<table border=\"1\" class=\"dataframe\">\n",
       "  <thead>\n",
       "    <tr style=\"text-align: right;\">\n",
       "      <th></th>\n",
       "      <th>count</th>\n",
       "      <th>mean</th>\n",
       "      <th>std</th>\n",
       "      <th>min</th>\n",
       "      <th>25%</th>\n",
       "      <th>50%</th>\n",
       "      <th>75%</th>\n",
       "      <th>max</th>\n",
       "    </tr>\n",
       "  </thead>\n",
       "  <tbody>\n",
       "    <tr>\n",
       "      <th>Estimated_fire_area</th>\n",
       "      <td>26689.0</td>\n",
       "      <td>143.771912</td>\n",
       "      <td>313.349568</td>\n",
       "      <td>1.0</td>\n",
       "      <td>8.820000</td>\n",
       "      <td>38.241667</td>\n",
       "      <td>146.412857</td>\n",
       "      <td>10120.943170</td>\n",
       "    </tr>\n",
       "    <tr>\n",
       "      <th>Mean_estimated_fire_brightness</th>\n",
       "      <td>26689.0</td>\n",
       "      <td>319.706604</td>\n",
       "      <td>8.886413</td>\n",
       "      <td>290.7</td>\n",
       "      <td>313.963044</td>\n",
       "      <td>319.838044</td>\n",
       "      <td>325.465217</td>\n",
       "      <td>381.950000</td>\n",
       "    </tr>\n",
       "    <tr>\n",
       "      <th>Mean_estimated_fire_radiative_power</th>\n",
       "      <td>26689.0</td>\n",
       "      <td>83.679701</td>\n",
       "      <td>67.788523</td>\n",
       "      <td>0.0</td>\n",
       "      <td>44.118182</td>\n",
       "      <td>67.117143</td>\n",
       "      <td>103.152381</td>\n",
       "      <td>2178.600000</td>\n",
       "    </tr>\n",
       "    <tr>\n",
       "      <th>Mean_confidence</th>\n",
       "      <td>26689.0</td>\n",
       "      <td>87.579269</td>\n",
       "      <td>4.374162</td>\n",
       "      <td>76.0</td>\n",
       "      <td>85.000000</td>\n",
       "      <td>87.781250</td>\n",
       "      <td>90.500000</td>\n",
       "      <td>100.000000</td>\n",
       "    </tr>\n",
       "    <tr>\n",
       "      <th>Std_confidence</th>\n",
       "      <td>24449.0</td>\n",
       "      <td>7.229078</td>\n",
       "      <td>1.997452</td>\n",
       "      <td>0.0</td>\n",
       "      <td>6.687146</td>\n",
       "      <td>7.707661</td>\n",
       "      <td>8.239279</td>\n",
       "      <td>16.970563</td>\n",
       "    </tr>\n",
       "    <tr>\n",
       "      <th>Var_confidence</th>\n",
       "      <td>24449.0</td>\n",
       "      <td>56.249225</td>\n",
       "      <td>25.927542</td>\n",
       "      <td>0.0</td>\n",
       "      <td>44.717927</td>\n",
       "      <td>59.408040</td>\n",
       "      <td>67.885714</td>\n",
       "      <td>288.000000</td>\n",
       "    </tr>\n",
       "    <tr>\n",
       "      <th>Count</th>\n",
       "      <td>26689.0</td>\n",
       "      <td>71.824272</td>\n",
       "      <td>150.507579</td>\n",
       "      <td>1.0</td>\n",
       "      <td>5.000000</td>\n",
       "      <td>20.000000</td>\n",
       "      <td>74.000000</td>\n",
       "      <td>3954.000000</td>\n",
       "    </tr>\n",
       "  </tbody>\n",
       "</table>\n",
       "</div>"
      ],
      "text/plain": [
       "                                       count        mean         std    min  \\\n",
       "Estimated_fire_area                  26689.0  143.771912  313.349568    1.0   \n",
       "Mean_estimated_fire_brightness       26689.0  319.706604    8.886413  290.7   \n",
       "Mean_estimated_fire_radiative_power  26689.0   83.679701   67.788523    0.0   \n",
       "Mean_confidence                      26689.0   87.579269    4.374162   76.0   \n",
       "Std_confidence                       24449.0    7.229078    1.997452    0.0   \n",
       "Var_confidence                       24449.0   56.249225   25.927542    0.0   \n",
       "Count                                26689.0   71.824272  150.507579    1.0   \n",
       "\n",
       "                                            25%         50%         75%  \\\n",
       "Estimated_fire_area                    8.820000   38.241667  146.412857   \n",
       "Mean_estimated_fire_brightness       313.963044  319.838044  325.465217   \n",
       "Mean_estimated_fire_radiative_power   44.118182   67.117143  103.152381   \n",
       "Mean_confidence                       85.000000   87.781250   90.500000   \n",
       "Std_confidence                         6.687146    7.707661    8.239279   \n",
       "Var_confidence                        44.717927   59.408040   67.885714   \n",
       "Count                                  5.000000   20.000000   74.000000   \n",
       "\n",
       "                                              max  \n",
       "Estimated_fire_area                  10120.943170  \n",
       "Mean_estimated_fire_brightness         381.950000  \n",
       "Mean_estimated_fire_radiative_power   2178.600000  \n",
       "Mean_confidence                        100.000000  \n",
       "Std_confidence                          16.970563  \n",
       "Var_confidence                         288.000000  \n",
       "Count                                 3954.000000  "
      ]
     },
     "execution_count": 4,
     "metadata": {},
     "output_type": "execute_result"
    }
   ],
   "source": [
    "df_wildfires.describe().transpose()"
   ]
  },
  {
   "cell_type": "code",
   "execution_count": 5,
   "metadata": {},
   "outputs": [
    {
     "name": "stdout",
     "output_type": "stream",
     "text": [
      "Number of records: 26689\n",
      "Number of regions: 7\n",
      "\n",
      "['NSW' 'NT' 'QL' 'SA' 'TA' 'VI' 'WA']\n"
     ]
    }
   ],
   "source": [
    "#Tofind the Number of Records & Regions in the following format\n",
    "print(\"Number of records: {}\".format(len(df_wildfires)))\n",
    "print(\"Number of regions: {}\\n\".format(len(df_wildfires['Region'].unique())))\n",
    "print(df_wildfires['Region'].unique())"
   ]
  },
  {
   "cell_type": "code",
   "execution_count": 6,
   "metadata": {},
   "outputs": [
    {
     "name": "stdout",
     "output_type": "stream",
     "text": [
      "Minimum Date: 2005-01-01 00:00:00\n",
      "Maximum Date: 2021-01-15 00:00:00\n"
     ]
    }
   ],
   "source": [
    "###Converting DATE Column to datetime\n",
    "df_wildfires['Date'] = pd.to_datetime(df_wildfires['Date'])\n",
    "print(\"Minimum Date: {}\".format(df_wildfires['Date'].min()))\n",
    "print(\"Maximum Date: {}\".format(df_wildfires['Date'].max()))"
   ]
  },
  {
   "cell_type": "code",
   "execution_count": 7,
   "metadata": {},
   "outputs": [
    {
     "data": {
      "text/plain": [
       "Region                                    0\n",
       "Date                                      0\n",
       "Estimated_fire_area                       0\n",
       "Mean_estimated_fire_brightness            0\n",
       "Mean_estimated_fire_radiative_power       0\n",
       "Mean_confidence                           0\n",
       "Std_confidence                         2240\n",
       "Var_confidence                         2240\n",
       "Count                                     0\n",
       "Replaced                                  0\n",
       "dtype: int64"
      ]
     },
     "execution_count": 7,
     "metadata": {},
     "output_type": "execute_result"
    }
   ],
   "source": [
    "#Null values checking, if any...\n",
    "df_wildfires.isna().sum()"
   ]
  },
  {
   "cell_type": "code",
   "execution_count": 8,
   "metadata": {},
   "outputs": [
    {
     "data": {
      "text/html": [
       "<div>\n",
       "<style scoped>\n",
       "    .dataframe tbody tr th:only-of-type {\n",
       "        vertical-align: middle;\n",
       "    }\n",
       "\n",
       "    .dataframe tbody tr th {\n",
       "        vertical-align: top;\n",
       "    }\n",
       "\n",
       "    .dataframe thead th {\n",
       "        text-align: right;\n",
       "    }\n",
       "</style>\n",
       "<table border=\"1\" class=\"dataframe\">\n",
       "  <thead>\n",
       "    <tr style=\"text-align: right;\">\n",
       "      <th></th>\n",
       "      <th>Region</th>\n",
       "      <th>Date</th>\n",
       "      <th>Estimated_fire_area</th>\n",
       "      <th>Mean_estimated_fire_brightness</th>\n",
       "      <th>Mean_estimated_fire_radiative_power</th>\n",
       "      <th>Mean_confidence</th>\n",
       "      <th>Std_confidence</th>\n",
       "      <th>Var_confidence</th>\n",
       "      <th>Count</th>\n",
       "      <th>Replaced</th>\n",
       "    </tr>\n",
       "  </thead>\n",
       "  <tbody>\n",
       "    <tr>\n",
       "      <th>48</th>\n",
       "      <td>NSW</td>\n",
       "      <td>2005-02-26</td>\n",
       "      <td>1.00</td>\n",
       "      <td>303.15</td>\n",
       "      <td>8.0</td>\n",
       "      <td>79.0</td>\n",
       "      <td>NaN</td>\n",
       "      <td>NaN</td>\n",
       "      <td>1</td>\n",
       "      <td>R</td>\n",
       "    </tr>\n",
       "    <tr>\n",
       "      <th>149</th>\n",
       "      <td>NSW</td>\n",
       "      <td>2005-06-12</td>\n",
       "      <td>1.00</td>\n",
       "      <td>302.55</td>\n",
       "      <td>17.9</td>\n",
       "      <td>79.0</td>\n",
       "      <td>NaN</td>\n",
       "      <td>NaN</td>\n",
       "      <td>1</td>\n",
       "      <td>R</td>\n",
       "    </tr>\n",
       "    <tr>\n",
       "      <th>154</th>\n",
       "      <td>NSW</td>\n",
       "      <td>2005-06-18</td>\n",
       "      <td>5.27</td>\n",
       "      <td>301.30</td>\n",
       "      <td>71.9</td>\n",
       "      <td>77.0</td>\n",
       "      <td>NaN</td>\n",
       "      <td>NaN</td>\n",
       "      <td>1</td>\n",
       "      <td>R</td>\n",
       "    </tr>\n",
       "    <tr>\n",
       "      <th>157</th>\n",
       "      <td>NSW</td>\n",
       "      <td>2005-06-25</td>\n",
       "      <td>9.60</td>\n",
       "      <td>300.70</td>\n",
       "      <td>145.9</td>\n",
       "      <td>76.0</td>\n",
       "      <td>NaN</td>\n",
       "      <td>NaN</td>\n",
       "      <td>1</td>\n",
       "      <td>R</td>\n",
       "    </tr>\n",
       "    <tr>\n",
       "      <th>163</th>\n",
       "      <td>NSW</td>\n",
       "      <td>2005-07-09</td>\n",
       "      <td>2.80</td>\n",
       "      <td>294.65</td>\n",
       "      <td>37.8</td>\n",
       "      <td>79.0</td>\n",
       "      <td>NaN</td>\n",
       "      <td>NaN</td>\n",
       "      <td>1</td>\n",
       "      <td>R</td>\n",
       "    </tr>\n",
       "    <tr>\n",
       "      <th>...</th>\n",
       "      <td>...</td>\n",
       "      <td>...</td>\n",
       "      <td>...</td>\n",
       "      <td>...</td>\n",
       "      <td>...</td>\n",
       "      <td>...</td>\n",
       "      <td>...</td>\n",
       "      <td>...</td>\n",
       "      <td>...</td>\n",
       "      <td>...</td>\n",
       "    </tr>\n",
       "    <tr>\n",
       "      <th>26541</th>\n",
       "      <td>WA</td>\n",
       "      <td>2020-08-13</td>\n",
       "      <td>1.10</td>\n",
       "      <td>320.35</td>\n",
       "      <td>27.1</td>\n",
       "      <td>83.0</td>\n",
       "      <td>NaN</td>\n",
       "      <td>NaN</td>\n",
       "      <td>1</td>\n",
       "      <td>N</td>\n",
       "    </tr>\n",
       "    <tr>\n",
       "      <th>26542</th>\n",
       "      <td>WA</td>\n",
       "      <td>2020-08-14</td>\n",
       "      <td>1.00</td>\n",
       "      <td>302.15</td>\n",
       "      <td>15.8</td>\n",
       "      <td>77.0</td>\n",
       "      <td>NaN</td>\n",
       "      <td>NaN</td>\n",
       "      <td>1</td>\n",
       "      <td>N</td>\n",
       "    </tr>\n",
       "    <tr>\n",
       "      <th>26545</th>\n",
       "      <td>WA</td>\n",
       "      <td>2020-08-20</td>\n",
       "      <td>1.92</td>\n",
       "      <td>326.85</td>\n",
       "      <td>86.2</td>\n",
       "      <td>92.0</td>\n",
       "      <td>NaN</td>\n",
       "      <td>NaN</td>\n",
       "      <td>1</td>\n",
       "      <td>N</td>\n",
       "    </tr>\n",
       "    <tr>\n",
       "      <th>26547</th>\n",
       "      <td>WA</td>\n",
       "      <td>2020-08-22</td>\n",
       "      <td>2.47</td>\n",
       "      <td>321.10</td>\n",
       "      <td>43.9</td>\n",
       "      <td>79.0</td>\n",
       "      <td>NaN</td>\n",
       "      <td>NaN</td>\n",
       "      <td>1</td>\n",
       "      <td>N</td>\n",
       "    </tr>\n",
       "    <tr>\n",
       "      <th>26681</th>\n",
       "      <td>WA</td>\n",
       "      <td>2021-01-08</td>\n",
       "      <td>5.44</td>\n",
       "      <td>327.20</td>\n",
       "      <td>154.1</td>\n",
       "      <td>82.0</td>\n",
       "      <td>NaN</td>\n",
       "      <td>NaN</td>\n",
       "      <td>1</td>\n",
       "      <td>N</td>\n",
       "    </tr>\n",
       "  </tbody>\n",
       "</table>\n",
       "<p>2240 rows × 10 columns</p>\n",
       "</div>"
      ],
      "text/plain": [
       "      Region       Date  Estimated_fire_area  Mean_estimated_fire_brightness  \\\n",
       "48       NSW 2005-02-26                 1.00                          303.15   \n",
       "149      NSW 2005-06-12                 1.00                          302.55   \n",
       "154      NSW 2005-06-18                 5.27                          301.30   \n",
       "157      NSW 2005-06-25                 9.60                          300.70   \n",
       "163      NSW 2005-07-09                 2.80                          294.65   \n",
       "...      ...        ...                  ...                             ...   \n",
       "26541     WA 2020-08-13                 1.10                          320.35   \n",
       "26542     WA 2020-08-14                 1.00                          302.15   \n",
       "26545     WA 2020-08-20                 1.92                          326.85   \n",
       "26547     WA 2020-08-22                 2.47                          321.10   \n",
       "26681     WA 2021-01-08                 5.44                          327.20   \n",
       "\n",
       "       Mean_estimated_fire_radiative_power  Mean_confidence  Std_confidence  \\\n",
       "48                                     8.0             79.0             NaN   \n",
       "149                                   17.9             79.0             NaN   \n",
       "154                                   71.9             77.0             NaN   \n",
       "157                                  145.9             76.0             NaN   \n",
       "163                                   37.8             79.0             NaN   \n",
       "...                                    ...              ...             ...   \n",
       "26541                                 27.1             83.0             NaN   \n",
       "26542                                 15.8             77.0             NaN   \n",
       "26545                                 86.2             92.0             NaN   \n",
       "26547                                 43.9             79.0             NaN   \n",
       "26681                                154.1             82.0             NaN   \n",
       "\n",
       "       Var_confidence  Count Replaced  \n",
       "48                NaN      1        R  \n",
       "149               NaN      1        R  \n",
       "154               NaN      1        R  \n",
       "157               NaN      1        R  \n",
       "163               NaN      1        R  \n",
       "...               ...    ...      ...  \n",
       "26541             NaN      1        N  \n",
       "26542             NaN      1        N  \n",
       "26545             NaN      1        N  \n",
       "26547             NaN      1        N  \n",
       "26681             NaN      1        N  \n",
       "\n",
       "[2240 rows x 10 columns]"
      ]
     },
     "execution_count": 8,
     "metadata": {},
     "output_type": "execute_result"
    }
   ],
   "source": [
    "#To find reason behind NULL values\n",
    "df_wildfires.loc[df_wildfires.Std_confidence.isna(), :]\n",
    "\n",
    "df_wildfires.loc[df_wildfires.Var_confidence.isna(), :]"
   ]
  },
  {
   "cell_type": "code",
   "execution_count": 9,
   "metadata": {},
   "outputs": [
    {
     "data": {
      "text/html": [
       "<div>\n",
       "<style scoped>\n",
       "    .dataframe tbody tr th:only-of-type {\n",
       "        vertical-align: middle;\n",
       "    }\n",
       "\n",
       "    .dataframe tbody tr th {\n",
       "        vertical-align: top;\n",
       "    }\n",
       "\n",
       "    .dataframe thead th {\n",
       "        text-align: right;\n",
       "    }\n",
       "</style>\n",
       "<table border=\"1\" class=\"dataframe\">\n",
       "  <thead>\n",
       "    <tr style=\"text-align: right;\">\n",
       "      <th></th>\n",
       "      <th>Count</th>\n",
       "    </tr>\n",
       "  </thead>\n",
       "  <tbody>\n",
       "    <tr>\n",
       "      <th>0</th>\n",
       "      <td>1</td>\n",
       "    </tr>\n",
       "  </tbody>\n",
       "</table>\n",
       "</div>"
      ],
      "text/plain": [
       "   Count\n",
       "0      1"
      ]
     },
     "execution_count": 9,
     "metadata": {},
     "output_type": "execute_result"
    }
   ],
   "source": [
    "#Cross Checking while std_confidence & var_confidence is NaN\n",
    "df_wildfires.loc[(df_wildfires['Std_confidence'].isna()) & (df_wildfires['Var_confidence'].isna()), ['Count']].drop_duplicates().reset_index(drop=True)"
   ]
  },
  {
   "cell_type": "markdown",
   "metadata": {},
   "source": [
    "### Now,To Visualize the Estimated Fire Area"
   ]
  },
  {
   "cell_type": "code",
   "execution_count": 10,
   "metadata": {},
   "outputs": [
    {
     "data": {
      "image/png": "[encoded data removed]",
      "text/plain": [
       "<Figure size 1152x432 with 1 Axes>"
      ]
     },
     "metadata": {
      "needs_background": "light"
     },
     "output_type": "display_data"
    }
   ],
   "source": [
    "#For Historical_Wildfires\n",
    "plt.figure(figsize=(16, 6))\n",
    "sns.set(style=\"whitegrid\")\n",
    "geo = sns.lineplot(x=\"Date\", y=\"Estimated_fire_area\",hue='Region', data=df_wildfires)"
   ]
  },
  {
   "cell_type": "code",
   "execution_count": 11,
   "metadata": {},
   "outputs": [
    {
     "data": {
      "image/png": "[encoded data removed]",
      "text/plain": [
       "<Figure size 1152x432 with 1 Axes>"
      ]
     },
     "metadata": {},
     "output_type": "display_data"
    }
   ],
   "source": [
    "#Visualize Log wise Estimated Fire Area\n",
    "plt.figure(figsize=(16, 6))\n",
    "sns.set(style=\"whitegrid\")\n",
    "geo = sns.lineplot(x=\"Date\", y=\"Estimated_fire_area\", hue='Region',\n",
    "                 data=df_wildfires[df_wildfires['Region']=='NSW'])\n",
    "geo.set_yscale(\"log\")"
   ]
  },
  {
   "cell_type": "code",
   "execution_count": 12,
   "metadata": {},
   "outputs": [
    {
     "data": {
      "text/plain": [
       "Text(0, 0.5, 'Estimated Fire Area')"
      ]
     },
     "execution_count": 12,
     "metadata": {},
     "output_type": "execute_result"
    },
    {
     "data": {
      "image/png": "[encoded data removed]",
      "text/plain": [
       "<Figure size 1080x432 with 1 Axes>"
      ]
     },
     "metadata": {},
     "output_type": "display_data"
    }
   ],
   "source": [
    "# To Visualize the Estimated  fire area for a specific region over time\n",
    "fig, ax = plt.subplots(figsize = (15, 6))\n",
    "df_NSW = df_wildfires[df_wildfires[\"Region\"] == \"NSW\"]\n",
    "\n",
    "sns.lineplot(df_NSW[\"Date\"], df_NSW[\"Estimated_fire_area\"])\n",
    "\n",
    "ax.set_title(\"Estimated_Fire_Area_NSW\")\n",
    "ax.set_xlabel(\"Year\")\n",
    "ax.set_ylabel(\"Estimated Fire Area\")\n",
    "\n"
   ]
  },
  {
   "cell_type": "code",
   "execution_count": 13,
   "metadata": {},
   "outputs": [
    {
     "name": "stderr",
     "output_type": "stream",
     "text": [
      "C:\\Users\\new\\anaconda3\\lib\\site-packages\\ipykernel_launcher.py:2: SettingWithCopyWarning: \n",
      "A value is trying to be set on a copy of a slice from a DataFrame.\n",
      "Try using .loc[row_indexer,col_indexer] = value instead\n",
      "\n",
      "See the caveats in the documentation: https://pandas.pydata.org/pandas-docs/stable/user_guide/indexing.html#returning-a-view-versus-a-copy\n",
      "  \n",
      "C:\\Users\\new\\anaconda3\\lib\\site-packages\\ipykernel_launcher.py:3: SettingWithCopyWarning: \n",
      "A value is trying to be set on a copy of a slice from a DataFrame.\n",
      "Try using .loc[row_indexer,col_indexer] = value instead\n",
      "\n",
      "See the caveats in the documentation: https://pandas.pydata.org/pandas-docs/stable/user_guide/indexing.html#returning-a-view-versus-a-copy\n",
      "  This is separate from the ipykernel package so we can avoid doing imports until\n",
      "C:\\Users\\new\\anaconda3\\lib\\site-packages\\ipykernel_launcher.py:4: SettingWithCopyWarning: \n",
      "A value is trying to be set on a copy of a slice from a DataFrame.\n",
      "Try using .loc[row_indexer,col_indexer] = value instead\n",
      "\n",
      "See the caveats in the documentation: https://pandas.pydata.org/pandas-docs/stable/user_guide/indexing.html#returning-a-view-versus-a-copy\n",
      "  after removing the cwd from sys.path.\n"
     ]
    }
   ],
   "source": [
    "#Seasonality checking breaking Date into segments\n",
    "df_NSW[\"day\"] = df_NSW[\"Date\"].dt.day\n",
    "df_NSW[\"month\"] = df_NSW[\"Date\"].dt.month\n",
    "df_NSW[\"year\"] = df_NSW[\"Date\"].dt.year\n"
   ]
  },
  {
   "cell_type": "code",
   "execution_count": 14,
   "metadata": {},
   "outputs": [
    {
     "data": {
      "text/plain": [
       "Text(0, 0.5, 'Fire Area - Seasonality')"
      ]
     },
     "execution_count": 14,
     "metadata": {},
     "output_type": "execute_result"
    },
    {
     "data": {
      "image/png": "[encoded data removed]",
      "text/plain": [
       "<Figure size 1296x432 with 2 Axes>"
      ]
     },
     "metadata": {},
     "output_type": "display_data"
    }
   ],
   "source": [
    "#Seasonality checking using Box plot for NSW\n",
    "fig, ax = plt.subplots(nrows = 1, ncols = 2, figsize = (18, 6))\n",
    "\n",
    "sns.boxplot(df_NSW[\"year\"], df_NSW[\"Estimated_fire_area\"], ax = ax[0])\n",
    "ax[0].set_title(\"Yearly_Trend\")\n",
    "ax[0].set_xlabel(\"Year\")\n",
    "ax[0].set_ylabel(\"Fire Area \")\n",
    "\n",
    "sns.boxplot(df_NSW[\"month\"], df_NSW[\"Estimated_fire_area\"], ax = ax[1])\n",
    "ax[1].set_title(\"Monthwise - Seasonality\")\n",
    "ax[1].set_xlabel(\"Month\")\n",
    "ax[1].set_ylabel(\"Fire Area - Seasonality\")\n"
   ]
  },
  {
   "cell_type": "markdown",
   "metadata": {},
   "source": [
    "### So, from the above Visualization of Historical_Wildfires Data it is shown that there is a Trend & Seasonality, Data is not Stationary \n"
   ]
  },
  {
   "cell_type": "markdown",
   "metadata": {},
   "source": [
    "# Now for the Historical_Weather Dataset\n",
    "N.B: Daily aggregates computed from the hourly ERA5 climate re-analysis."
   ]
  },
  {
   "cell_type": "code",
   "execution_count": 15,
   "metadata": {},
   "outputs": [
    {
     "data": {
      "text/html": [
       "<div>\n",
       "<style scoped>\n",
       "    .dataframe tbody tr th:only-of-type {\n",
       "        vertical-align: middle;\n",
       "    }\n",
       "\n",
       "    .dataframe tbody tr th {\n",
       "        vertical-align: top;\n",
       "    }\n",
       "\n",
       "    .dataframe thead th {\n",
       "        text-align: right;\n",
       "    }\n",
       "</style>\n",
       "<table border=\"1\" class=\"dataframe\">\n",
       "  <thead>\n",
       "    <tr style=\"text-align: right;\">\n",
       "      <th></th>\n",
       "      <th>Date</th>\n",
       "      <th>Region</th>\n",
       "      <th>Parameter</th>\n",
       "      <th>count()[unit: km^2]</th>\n",
       "      <th>min()</th>\n",
       "      <th>max()</th>\n",
       "      <th>mean()</th>\n",
       "      <th>variance()</th>\n",
       "    </tr>\n",
       "  </thead>\n",
       "  <tbody>\n",
       "    <tr>\n",
       "      <th>0</th>\n",
       "      <td>2005-01-01</td>\n",
       "      <td>NSW</td>\n",
       "      <td>Precipitation</td>\n",
       "      <td>800234.348986</td>\n",
       "      <td>0.000000</td>\n",
       "      <td>1.836935</td>\n",
       "      <td>0.044274</td>\n",
       "      <td>0.028362</td>\n",
       "    </tr>\n",
       "    <tr>\n",
       "      <th>1</th>\n",
       "      <td>2005-01-01</td>\n",
       "      <td>NSW</td>\n",
       "      <td>RelativeHumidity</td>\n",
       "      <td>800234.348986</td>\n",
       "      <td>13.877194</td>\n",
       "      <td>80.522964</td>\n",
       "      <td>36.355567</td>\n",
       "      <td>253.559937</td>\n",
       "    </tr>\n",
       "    <tr>\n",
       "      <th>2</th>\n",
       "      <td>2005-01-01</td>\n",
       "      <td>NSW</td>\n",
       "      <td>SoilWaterContent</td>\n",
       "      <td>800234.348986</td>\n",
       "      <td>0.002245</td>\n",
       "      <td>0.414305</td>\n",
       "      <td>0.170931</td>\n",
       "      <td>0.007758</td>\n",
       "    </tr>\n",
       "    <tr>\n",
       "      <th>3</th>\n",
       "      <td>2005-01-01</td>\n",
       "      <td>NSW</td>\n",
       "      <td>SolarRadiation</td>\n",
       "      <td>800234.348986</td>\n",
       "      <td>14.515009</td>\n",
       "      <td>32.169781</td>\n",
       "      <td>26.749389</td>\n",
       "      <td>6.078587</td>\n",
       "    </tr>\n",
       "    <tr>\n",
       "      <th>4</th>\n",
       "      <td>2005-01-01</td>\n",
       "      <td>NSW</td>\n",
       "      <td>Temperature</td>\n",
       "      <td>800234.348986</td>\n",
       "      <td>14.485785</td>\n",
       "      <td>35.878704</td>\n",
       "      <td>27.341182</td>\n",
       "      <td>18.562212</td>\n",
       "    </tr>\n",
       "  </tbody>\n",
       "</table>\n",
       "</div>"
      ],
      "text/plain": [
       "         Date Region         Parameter  count()[unit: km^2]      min()  \\\n",
       "0  2005-01-01    NSW     Precipitation        800234.348986   0.000000   \n",
       "1  2005-01-01    NSW  RelativeHumidity        800234.348986  13.877194   \n",
       "2  2005-01-01    NSW  SoilWaterContent        800234.348986   0.002245   \n",
       "3  2005-01-01    NSW    SolarRadiation        800234.348986  14.515009   \n",
       "4  2005-01-01    NSW       Temperature        800234.348986  14.485785   \n",
       "\n",
       "       max()     mean()  variance()  \n",
       "0   1.836935   0.044274    0.028362  \n",
       "1  80.522964  36.355567  253.559937  \n",
       "2   0.414305   0.170931    0.007758  \n",
       "3  32.169781  26.749389    6.078587  \n",
       "4  35.878704  27.341182   18.562212  "
      ]
     },
     "execution_count": 15,
     "metadata": {},
     "output_type": "execute_result"
    }
   ],
   "source": [
    "#Reading Data\n",
    "df_weather=pd.read_csv(\"HistoricalWeather.csv\")\n",
    "\n",
    "df_weather.head()"
   ]
  },
  {
   "cell_type": "code",
   "execution_count": 16,
   "metadata": {},
   "outputs": [
    {
     "ename": "NameError",
     "evalue": "name 'df_wt' is not defined",
     "output_type": "error",
     "traceback": [
      "\u001b[1;31m---------------------------------------------------------------------------\u001b[0m",
      "\u001b[1;31mNameError\u001b[0m                                 Traceback (most recent call last)",
      "\u001b[1;32m<ipython-input-16-89750fd5b32a>\u001b[0m in \u001b[0;36m<module>\u001b[1;34m\u001b[0m\n\u001b[0;32m      1\u001b[0m \u001b[1;31m#Converting Date column to datetime\u001b[0m\u001b[1;33m\u001b[0m\u001b[1;33m\u001b[0m\u001b[1;33m\u001b[0m\u001b[0m\n\u001b[1;32m----> 2\u001b[1;33m \u001b[0mdf_weather\u001b[0m\u001b[1;33m[\u001b[0m\u001b[1;34m\"Date\"\u001b[0m\u001b[1;33m]\u001b[0m \u001b[1;33m=\u001b[0m \u001b[0mpd\u001b[0m\u001b[1;33m.\u001b[0m\u001b[0mto_datetime\u001b[0m\u001b[1;33m(\u001b[0m\u001b[0mdf_wt\u001b[0m\u001b[1;33m[\u001b[0m\u001b[1;34m\"Date\"\u001b[0m\u001b[1;33m]\u001b[0m\u001b[1;33m)\u001b[0m\u001b[1;33m\u001b[0m\u001b[1;33m\u001b[0m\u001b[0m\n\u001b[0m",
      "\u001b[1;31mNameError\u001b[0m: name 'df_wt' is not defined"
     ]
    }
   ],
   "source": [
    "#Converting Date column to datetime\n",
    "df_weather[\"Date\"] = pd.to_datetime(df_wt[\"Date\"])\n"
   ]
  },
  {
   "cell_type": "code",
   "execution_count": null,
   "metadata": {},
   "outputs": [],
   "source": [
    "# Checking the info of Data\n",
    "df_weather.info\n"
   ]
  },
  {
   "cell_type": "code",
   "execution_count": null,
   "metadata": {},
   "outputs": [],
   "source": [
    "#DATA analysis\n",
    "print(\"Number of records: {}\".format(len(df_weather)))\n",
    "print(\"Number of regions: {}\\n\".format(len(df_weather['Region'].unique())))\n",
    "print(df_weather['Region'].unique())"
   ]
  },
  {
   "cell_type": "code",
   "execution_count": null,
   "metadata": {},
   "outputs": [],
   "source": [
    "df_weather.describe().T"
   ]
  },
  {
   "cell_type": "code",
   "execution_count": null,
   "metadata": {},
   "outputs": [],
   "source": [
    "#Checking for Missing values\n",
    "df_weather.isna().sum()"
   ]
  },
  {
   "cell_type": "code",
   "execution_count": null,
   "metadata": {},
   "outputs": [],
   "source": [
    "#Checking for Data Type\n",
    "df_weather.dtypes"
   ]
  },
  {
   "cell_type": "code",
   "execution_count": null,
   "metadata": {},
   "outputs": [],
   "source": [
    "#Renaming the Columns\n",
    "df_weather = df_weather.rename(columns={\"count()[unit: km^2]\": \"Area\", \"min()\": \"Min\",\n",
    "                                       \"max()\": \"Max\", \"mean()\": \"Mean\", \"variance()\": \"Variance\"})\n",
    "\n",
    "df_weather['Date'] = pd.to_datetime(df_weather['Date'])\n",
    "\n",
    "df_weather.head()"
   ]
  },
  {
   "cell_type": "code",
   "execution_count": null,
   "metadata": {},
   "outputs": [],
   "source": [
    "df_weather.head()"
   ]
  },
  {
   "cell_type": "code",
   "execution_count": null,
   "metadata": {},
   "outputs": [],
   "source": [
    "#Checking for Unique Area\n",
    "df_weather['Area'].unique()"
   ]
  },
  {
   "cell_type": "code",
   "execution_count": null,
   "metadata": {},
   "outputs": [],
   "source": [
    "#Re-arranging Data\n",
    "df_pivot = df_weather.pivot_table(values=['Min','Max','Mean','Variance'], index=['Date','Region'],\n",
    "                                  columns=['Parameter'])"
   ]
  },
  {
   "cell_type": "code",
   "execution_count": null,
   "metadata": {},
   "outputs": [],
   "source": [
    "#Re-Set Index\n",
    "df_pivot.reset_index(inplace=True)"
   ]
  },
  {
   "cell_type": "code",
   "execution_count": null,
   "metadata": {},
   "outputs": [],
   "source": [
    "#Rename Columns\n",
    "df_pivot.columns = [col[0] if not(col[1]) else '{1}_{0}'.format(*col) for col in df_pivot.columns.values]"
   ]
  },
  {
   "cell_type": "code",
   "execution_count": null,
   "metadata": {},
   "outputs": [],
   "source": [
    "#Re-Arranging Columns & Data\n",
    "params = df_pivot.columns.tolist()[3:]\n",
    "params.sort()\n",
    "weather_df = df_pivot[df_pivot.columns.tolist()[:3] + params].copy()\n",
    "weather_df.head()"
   ]
  },
  {
   "cell_type": "code",
   "execution_count": null,
   "metadata": {},
   "outputs": [],
   "source": [
    "###Now, to Visualize Data taking Average Temperature \n",
    "\n",
    "plt.figure(figsize=(16, 6))\n",
    "sns.set(style=\"whitegrid\")\n",
    "geo = sns.lineplot(x=\"Date\", y=\"Temperature_Mean\",hue='Region', data=weather_df)"
   ]
  },
  {
   "cell_type": "code",
   "execution_count": null,
   "metadata": {},
   "outputs": [],
   "source": [
    "#Visualize Mean of Soilwatercontent\n",
    "plt.figure(figsize=(16, 6))\n",
    "sns.set(style=\"whitegrid\")\n",
    "g = sns.lineplot(x=\"Date\", y=\"SoilWaterContent_Mean\",hue='Region', data=weather_df)\n"
   ]
  },
  {
   "cell_type": "markdown",
   "metadata": {},
   "source": [
    "### Historical Weather Forecast Data"
   ]
  },
  {
   "cell_type": "code",
   "execution_count": null,
   "metadata": {},
   "outputs": [],
   "source": [
    "#Reading file\n",
    "df_forecast = pd.read_csv(\"HistoricalWeatherForecasts.csv\")\n",
    "\n",
    "df_forecast['Date'] = pd.to_datetime(df_forecast['Date'])\n",
    "\n",
    "df_forecast.head()"
   ]
  },
  {
   "cell_type": "code",
   "execution_count": null,
   "metadata": {},
   "outputs": [],
   "source": [
    "### Forecast predictions cecking for each day\n",
    "\n",
    "df_forecast['Lead time'].unique()"
   ]
  },
  {
   "cell_type": "code",
   "execution_count": null,
   "metadata": {},
   "outputs": [],
   "source": [
    "#Data Selection by Taking into a Single Region - Monthly\n",
    "date1 = '2020-01-01'\n",
    "date2='2020-01-31'\n",
    "region1 = 'NSW'\n",
    "\n",
    "forecast_NSW_1 = df_forecast[(df_forecast['Parameter']== 'Temperature') & (df_forecast['Region']== region1)]\n",
    "forecast_NSW_1 = forecast_NSW_1.set_index(['Date'])\n",
    "forecast_NSW_2 = forecast_NSW_1.loc[date1:date2]\n",
    "forecast_NSW_2.head()"
   ]
  },
  {
   "cell_type": "markdown",
   "metadata": {},
   "source": [
    "### Visualize to compare"
   ]
  },
  {
   "cell_type": "code",
   "execution_count": null,
   "metadata": {},
   "outputs": [],
   "source": [
    "#Observation in a same period\n",
    "\n",
    "weather_df_NSW = weather_df[weather_df['Region']=='NSW']\n",
    "\n",
    "weather_df_NSW = weather_df_NSW.set_index(['Date'])\n",
    "observation_1 = weather_df_NSW.loc[date1:date2]\n",
    "observation_1.head()\n"
   ]
  },
  {
   "cell_type": "code",
   "execution_count": null,
   "metadata": {},
   "outputs": [],
   "source": [
    "[fig,ax] = plt.subplots(1, figsize=(16, 8))\n",
    "\n",
    "observation_1['Temperature_Mean'].plot();\n",
    "\n",
    "forecast_NSW_2['mean()'][forecast_NSW_2['Lead time']== 5].plot();\n",
    "forecast_NSW_2['mean()'][forecast_NSW_2['Lead time']== 10].plot();\n",
    "forecast_NSW_2['mean()'][forecast_NSW_2['Lead time']== 15].plot();\n",
    "\n",
    "ax.legend(['observed T','5 day lead time','10 day lead time','15 day lead time']);"
   ]
  },
  {
   "cell_type": "markdown",
   "metadata": {},
   "source": [
    "### Future Analysis:The above analysis of Historical Weather Forecast Data is the KEY to builds Model to predict before the Bushfire Happen!"
   ]
  },
  {
   "cell_type": "code",
   "execution_count": null,
   "metadata": {},
   "outputs": [],
   "source": [
    "# Now, Merging the Weather Data & Historical Forecast together\n",
    "df_all = df_wildfires.merge(weather_df, how='left', on=['Date', 'Region'])\n",
    "\n",
    "# Transpose the Data\n",
    "df_all.describe().transpose()"
   ]
  },
  {
   "cell_type": "code",
   "execution_count": null,
   "metadata": {},
   "outputs": [],
   "source": [
    "#Taking NSW DataFrame\n",
    "df_NSW = df_all[df_all['Region']=='NSW']\n",
    "df_NSW.head()"
   ]
  },
  {
   "cell_type": "markdown",
   "metadata": {},
   "source": [
    "### Region-wise Data Distribution"
   ]
  },
  {
   "cell_type": "code",
   "execution_count": null,
   "metadata": {},
   "outputs": [],
   "source": [
    "plt.figure(figsize=(12, 12))\n",
    "sns.set(style=\"whitegrid\")\n",
    "\n",
    "geo = sns.displot(data=df_all, x=\"Estimated_fire_area\", hue=\"Region\", kind=\"kde\", log_scale=True)"
   ]
  },
  {
   "cell_type": "code",
   "execution_count": null,
   "metadata": {},
   "outputs": [],
   "source": [
    "#Visualization on Average Precepitation\n",
    "plt.figure(figsize=(12, 12))\n",
    "sns.set(style=\"whitegrid\")\n",
    "geo = sns.displot(data=df_all, x=\"Precipitation_Mean\", hue=\"Region\", kind=\"kde\")"
   ]
  },
  {
   "cell_type": "code",
   "execution_count": null,
   "metadata": {},
   "outputs": [],
   "source": [
    "#Tofind Wind Speed\n",
    "plt.figure(figsize=(12, 12))\n",
    "sns.set(style=\"whitegrid\")\n",
    "geo = sns.displot(data=df_all, x=\"WindSpeed_Max\", hue=\"Region\", kind=\"kde\")"
   ]
  },
  {
   "cell_type": "markdown",
   "metadata": {},
   "source": [
    "### Now, to find the Correlation "
   ]
  },
  {
   "cell_type": "code",
   "execution_count": null,
   "metadata": {},
   "outputs": [],
   "source": [
    "df_correlation = df_all.drop(['Region', 'Date', 'Mean_confidence', 'Std_confidence','Var_confidence','Count', 'Replaced'], axis=1).copy()\n",
    "\n",
    "plt.figure(figsize = (20, 12))\n",
    "sns.heatmap(df_correlation.corr(), cmap = \"coolwarm\", annot= True, vmin = 0, vmax = 1)"
   ]
  },
  {
   "cell_type": "code",
   "execution_count": null,
   "metadata": {},
   "outputs": [],
   "source": [
    "### Average Solar Radioation Vs. Relative Humidity\n",
    "sns.jointplot(x='RelativeHumidity_Mean', y='SolarRadiation_Mean', data=df_all, kind=\"reg\")"
   ]
  },
  {
   "cell_type": "code",
   "execution_count": null,
   "metadata": {},
   "outputs": [],
   "source": [
    "sns.lmplot(x='RelativeHumidity_Mean', y='SolarRadiation_Mean', hue='Region', data=df_all)"
   ]
  },
  {
   "cell_type": "code",
   "execution_count": null,
   "metadata": {},
   "outputs": [],
   "source": [
    "sns.lmplot(x='Temperature_Mean', y='SolarRadiation_Mean', hue='Region', data=df_all)"
   ]
  },
  {
   "cell_type": "code",
   "execution_count": null,
   "metadata": {},
   "outputs": [],
   "source": [
    "sns.lmplot(x='WindSpeed_Max', y='Estimated_fire_area', hue='Region', data=df_all)"
   ]
  },
  {
   "cell_type": "code",
   "execution_count": null,
   "metadata": {},
   "outputs": [],
   "source": []
  },
  {
   "cell_type": "code",
   "execution_count": null,
   "metadata": {},
   "outputs": [],
   "source": []
  }
 ],
 "metadata": {
  "kernelspec": {
   "display_name": "Python 3",
   "language": "python",
   "name": "python3"
  },
  "language_info": {
   "codemirror_mode": {
    "name": "ipython",
    "version": 3
   },
   "file_extension": ".py",
   "mimetype": "text/x-python",
   "name": "python",
   "nbconvert_exporter": "python",
   "pygments_lexer": "ipython3",
   "version": "3.7.6"
  }
 },
 "nbformat": 4,
 "nbformat_minor": 4
}
